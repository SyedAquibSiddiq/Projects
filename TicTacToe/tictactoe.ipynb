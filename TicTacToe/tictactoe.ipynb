{
 "metadata": {
  "language_info": {
   "codemirror_mode": {
    "name": "ipython",
    "version": 3
   },
   "file_extension": ".py",
   "mimetype": "text/x-python",
   "name": "python",
   "nbconvert_exporter": "python",
   "pygments_lexer": "ipython3",
   "version": "3.8.2-final"
  },
  "orig_nbformat": 2,
  "kernelspec": {
   "name": "python3",
   "display_name": "Python 3.8.2 32-bit",
   "metadata": {
    "interpreter": {
     "hash": "7d396db2b8d0162815009978bb7058d0db4d1d25ae14d09807cc0c105f67053b"
    }
   }
  }
 },
 "nbformat": 4,
 "nbformat_minor": 2,
 "cells": [
  {
   "cell_type": "code",
   "execution_count": 47,
   "metadata": {},
   "outputs": [],
   "source": [
    "from IPython.display import clear_output\n",
    "\n",
    "def display_board(board):\n",
    "       \n",
    "      clear_output() \n",
    "\n",
    "      print(f\"\"\"\n",
    "          |   |\n",
    "        {board[7]} | {board[8]} | {board[9]}\n",
    "          |   |\n",
    "      --------------\n",
    "          |   |\n",
    "        {board[4]} | {board[5]} | {board[6]}\n",
    "          |   |  \n",
    "      --------------   \n",
    "          |   |\n",
    "        {board[1]} | {board[2]} | {board[3]}\n",
    "          |   |\n",
    "      \"\"\")\n",
    "        \n"
   ]
  },
  {
   "cell_type": "code",
   "execution_count": 67,
   "metadata": {},
   "outputs": [
    {
     "output_type": "stream",
     "name": "stdout",
     "text": [
      "\n          |   |\n        X | O | X\n          |   |\n      --------------\n          |   |\n        O | X | O\n          |   |  \n      --------------   \n          |   |\n        X | O |  \n          |   |\n      \n"
     ]
    }
   ],
   "source": [
    "the_board = [' ','X','O',' ','O','X','O','X','O','X'] \n",
    "display_board(the_board)"
   ]
  },
  {
   "cell_type": "code",
   "execution_count": 49,
   "metadata": {},
   "outputs": [],
   "source": [
    "def player_input():\n",
    "\n",
    "    marker = ''\n",
    "\n",
    "    while marker != 'X' and marker != 'O':\n",
    "        marker = input('Player 1, choose X or O: ').upper()\n",
    "    player1 = marker\n",
    "\n",
    "    if player1 == 'X':\n",
    "        return ('X','O')\n",
    "\n",
    "    else:\n",
    "        return ('O','X')\n"
   ]
  },
  {
   "cell_type": "code",
   "execution_count": 68,
   "metadata": {},
   "outputs": [],
   "source": [
    "def place_marker(board, marker, position):\n",
    "\n",
    "        board[position] = marker"
   ]
  },
  {
   "cell_type": "code",
   "execution_count": 73,
   "metadata": {},
   "outputs": [
    {
     "output_type": "stream",
     "name": "stdout",
     "text": [
      "\n          |   |\n        X | O | X\n          |   |\n      --------------\n          |   |\n        O | X | O\n          |   |  \n      --------------   \n          |   |\n        X | O | $\n          |   |\n      \n"
     ]
    }
   ],
   "source": [
    "place_marker(the_board, '$', 3)\n",
    "display_board(the_board)"
   ]
  },
  {
   "cell_type": "code",
   "execution_count": 75,
   "metadata": {},
   "outputs": [],
   "source": [
    "def space_check(board, position):\n",
    "\n",
    "    return board[position] == ' '"
   ]
  },
  {
   "cell_type": "code",
   "execution_count": 65,
   "metadata": {},
   "outputs": [
    {
     "output_type": "execute_result",
     "data": {
      "text/plain": [
       "False"
      ]
     },
     "metadata": {},
     "execution_count": 65
    }
   ],
   "source": [
    "space_check(the_board, 8)"
   ]
  },
  {
   "cell_type": "code",
   "execution_count": 97,
   "metadata": {},
   "outputs": [],
   "source": [
    "def player_choice(board):\n",
    "\n",
    "    position = 0\n",
    "    \n",
    "    while position not in [1,2,3,4,5,6,7,8,9] or not space_check(board, position):\n",
    "        try:\n",
    "            position = int(input('Choose a position: (1 - 9)'))\n",
    "        except ValueError:\n",
    "            print('value error, Enter number from (1 - 9)')\n",
    "            continue\n",
    "    return position"
   ]
  },
  {
   "cell_type": "code",
   "execution_count": 55,
   "metadata": {},
   "outputs": [],
   "source": [
    "from random import randint\n",
    "\n",
    "def first_to_play():\n",
    "\n",
    "    flip = randint(0,1)\n",
    "\n",
    "    if flip == 0:\n",
    "        return 'Player 1'\n",
    "    else:\n",
    "        return 'Player 2'\n"
   ]
  },
  {
   "cell_type": "code",
   "execution_count": 80,
   "metadata": {},
   "outputs": [
    {
     "output_type": "execute_result",
     "data": {
      "text/plain": [
       "'Player 1'"
      ]
     },
     "metadata": {},
     "execution_count": 80
    }
   ],
   "source": [
    "first_to_play()"
   ]
  },
  {
   "cell_type": "code",
   "execution_count": 81,
   "metadata": {},
   "outputs": [],
   "source": [
    "def win_check(board, mark):\n",
    "\n",
    "    return (\n",
    "    (board[7] == board[8] == board[9] == mark) or  #row\n",
    "    (board[4] == board[5] == board[6] == mark) or\n",
    "    (board[1] == board[2] == board[3] == mark) or \n",
    "    (board[1] == board[4] == board[7] == mark) or  #column\n",
    "    (board[2] == board[8] == board[9] == mark) or\n",
    "    (board[3] == board[5] == board[3] == mark) or\n",
    "    (board[1] == board[5] == board[9] == mark) or  #diagonal\n",
    "    (board[3] == board[5] == board[7] == mark) )"
   ]
  },
  {
   "cell_type": "code",
   "execution_count": 82,
   "metadata": {},
   "outputs": [
    {
     "output_type": "execute_result",
     "data": {
      "text/plain": [
       "True"
      ]
     },
     "metadata": {},
     "execution_count": 82
    }
   ],
   "source": [
    "win_check(the_board, p1_marker)"
   ]
  },
  {
   "cell_type": "code",
   "execution_count": 59,
   "metadata": {},
   "outputs": [],
   "source": [
    "def full_board_check(board):\n",
    "\n",
    "    for i in range(1,10):\n",
    "        if space_check(board, i):\n",
    "            return False\n",
    "\n",
    "    # Board is full if we return True        \n",
    "    return True"
   ]
  },
  {
   "cell_type": "code",
   "execution_count": 60,
   "metadata": {},
   "outputs": [],
   "source": [
    "def replay():\n",
    "\n",
    "    choice = input('Play again ? Enter y or n')\n",
    "\n",
    "    return choice == 'y'"
   ]
  },
  {
   "cell_type": "code",
   "execution_count": 61,
   "metadata": {},
   "outputs": [
    {
     "output_type": "execute_result",
     "data": {
      "text/plain": [
       "True"
      ]
     },
     "metadata": {},
     "execution_count": 61
    }
   ],
   "source": [
    "replay()"
   ]
  },
  {
   "cell_type": "code",
   "execution_count": 116,
   "metadata": {},
   "outputs": [],
   "source": [
    "def TicTacToe():\n",
    "\n",
    "    print(' Here the Game starts !')\n",
    "\n",
    "    while True:\n",
    "    #     set the game up Here\n",
    "        my_board = [' '] * 10\n",
    "\n",
    "        play_game = input('Are you ready to play ? ( y or n )').lower()\n",
    "        if play_game == 'y':\n",
    "            game_on = True\n",
    "            # ask input\n",
    "            p1_marker, p2_marker = player_input()\n",
    "            turn = first_to_play()\n",
    "            print(f'{turn} ! You are going first')\n",
    "        else:\n",
    "            print('Exited! , Have a good day')\n",
    "            break\n",
    "\n",
    "        \n",
    "\n",
    "        while game_on:\n",
    "        #          Player 1 turn\n",
    "            if turn == 'Player 1':\n",
    "                # show the board\n",
    "                display_board(my_board)\n",
    "                # choose a position\n",
    "                position = player_choice(my_board)\n",
    "                # place the marker on the position\n",
    "                place_marker(my_board, p1_marker, position)\n",
    "                # check if they won\n",
    "                if win_check(my_board, p1_marker):\n",
    "                    display_board(my_board)\n",
    "                    print('Player 1 , You have won!')\n",
    "                    game_on = False\n",
    "                # or check if there is a tie\n",
    "                else:\n",
    "                    if full_board_check(my_board):\n",
    "                        print(\"It's a TIE !\")\n",
    "                        display_board(my_board)\n",
    "                        game_on = False\n",
    "                    else:\n",
    "                        turn = 'Player 2'\n",
    "        #         Player 2's turn\n",
    "            else:\n",
    "                # show the board\n",
    "                display_board(my_board)\n",
    "                # choose a position\n",
    "                position = player_choice(my_board)\n",
    "                # place the marker on the position\n",
    "                place_marker(my_board, p2_marker, position)\n",
    "                # check if they won\n",
    "                if win_check(my_board, p2_marker):\n",
    "                    display_board(my_board)\n",
    "                    print('Player 2 , You have won!')\n",
    "                    game_on = False\n",
    "                # or check if there is a tie\n",
    "                else:\n",
    "                    if full_board_check(my_board):\n",
    "                        display_board(my_board)\n",
    "                        print(\" It's a TIE \")\n",
    "                        game_on = False\n",
    "                    else:\n",
    "                        turn = 'Player 1'        \n",
    "        if not replay():\n",
    "            print('Exited! , Have a good day')\n",
    "            break\n"
   ]
  },
  {
   "cell_type": "code",
   "execution_count": 118,
   "metadata": {},
   "outputs": [
    {
     "output_type": "stream",
     "name": "stdout",
     "text": [
      " Here the Game starts !\n",
      "Exited! , Have a good day\n"
     ]
    }
   ],
   "source": [
    "TicTacToe()"
   ]
  },
  {
   "cell_type": "code",
   "execution_count": null,
   "metadata": {},
   "outputs": [],
   "source": []
  }
 ]
}